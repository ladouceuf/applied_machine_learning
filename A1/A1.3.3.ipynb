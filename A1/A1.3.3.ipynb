{
 "cells": [
  {
   "cell_type": "code",
   "execution_count": 1,
   "metadata": {
    "collapsed": true
   },
   "outputs": [],
   "source": [
    "import pandas as pd\n",
    "import matplotlib.pyplot as plt\n",
    "import numpy as np\n",
    "import csv"
   ]
  },
  {
   "cell_type": "code",
   "execution_count": 2,
   "metadata": {
    "collapsed": true
   },
   "outputs": [],
   "source": [
    "#function definitions\n",
    "def find_w_star(x,y,LAMBDA):\n",
    "    xtx=x.T.dot(x) \n",
    "    xty=x.T.dot(y)    \n",
    "    xtx_plus_LAMBDA_inv=np.linalg.inv(xtx+(LAMBDA*np.eye(x.shape[1])))\n",
    "    w_star=xtx_plus_LAMBDA_inv.dot(xty)\n",
    "    return w_star\n",
    "\n",
    "def find_MSE(x,y,w):\n",
    "    return (y-x.dot(w)).T.dot((y-x.dot(w)))/x.shape[0]"
   ]
  },
  {
   "cell_type": "code",
   "execution_count": 3,
   "metadata": {
    "collapsed": true
   },
   "outputs": [],
   "source": [
    "#A1.3.3\n",
    "df=pd.read_csv(\"out/3.1/Dataset_3_meanfill.csv\",header=None)"
   ]
  },
  {
   "cell_type": "code",
   "execution_count": 4,
   "metadata": {
    "collapsed": true
   },
   "outputs": [],
   "source": [
    "df=df.iloc[:,5:128]\n",
    "col_ones = pd.DataFrame(np.ones((1994,1)))\n",
    "df.insert(loc=0, column='4', value=col_ones)"
   ]
  },
  {
   "cell_type": "code",
   "execution_count": 5,
   "metadata": {
    "collapsed": true
   },
   "outputs": [],
   "source": [
    "LAMBDA_axis=[]\n",
    "for LAMBDA_H in range(0,100):\n",
    "    LAMBDA=LAMBDA_H/20.0\n",
    "    LAMBDA_axis.append(LAMBDA)\n",
    "    MSE_trn_5=[]\n",
    "    MSE_tst_5=[]\n",
    "    w_star_5=[]\n",
    "    for i in range(1,6):\n",
    "        #read training dataset_i\n",
    "        path=\"out/3.2/CandC/CandC-train\"\n",
    "        path=path+str(i)+\".csv\"\n",
    "        df=pd.read_csv(path)\n",
    "        x=df.iloc[:,0:123]\n",
    "        x=np.array(x)\n",
    "        y=df.iloc[:,123:]\n",
    "        y=np.array(y)\n",
    "        #compute w_star parameter for min loss\n",
    "        w_star=find_w_star(x,y,LAMBDA)\n",
    "        #Compute minimal MSE_trn\n",
    "        MSE_trn=find_MSE(x,y,w_star)\n",
    "        #read testing dataset_i\n",
    "        path=\"out/3.2/CandC/CandC-test\"\n",
    "        path=path+str(i)+\".csv\"\n",
    "        df=pd.read_csv(path)\n",
    "        x=df.iloc[:,0:123]\n",
    "        x=np.array(x)\n",
    "        y=df.iloc[:,123:]\n",
    "        y=np.array(y)\n",
    "        #Compute minimal MSE_tst\n",
    "        MSE_tst=find_MSE(x,y,w_star)\n",
    "        #push the results in list\n",
    "        w_star_5.append(w_star)\n",
    "        MSE_trn_5.append(MSE_trn)\n",
    "        MSE_tst_5.append(MSE_tst)\n",
    "    #make average of the 5 elements of each list\n",
    "    w_star_5=np.array(w_star_5)\n",
    "    w_star_temp=(w_star_5[0]+w_star_5[1]+w_star_5[2]+w_star_5[3]+w_star_5[4])/5.0\n",
    "    MSE_trn_temp=sum(MSE_trn_5)/float(len(MSE_trn_5))\n",
    "    MSE_tst_temp=sum(MSE_tst_5)/float(len(MSE_tst_5))\n",
    "    \n",
    "    \n",
    "    if(LAMBDA_H==0):\n",
    "        w_star_lst=w_star_temp\n",
    "        MSE_trn_lst=np.array([MSE_trn_temp])\n",
    "        MSE_tst_lst=np.array([MSE_tst_temp])\n",
    "    else:\n",
    "        w_star_lst=np.column_stack((w_star_lst,w_star_temp))\n",
    "        MSE_trn_lst=np.dstack((MSE_trn_lst,np.array([MSE_trn_temp])))\n",
    "        MSE_tst_lst=np.dstack((MSE_tst_lst,np.array([MSE_tst_temp])))\n",
    "        \n",
    "MSE_trn_lst=MSE_trn_lst.ravel()\n",
    "MSE_tst_lst=MSE_tst_lst.ravel()"
   ]
  },
  {
   "cell_type": "code",
   "execution_count": 6,
   "metadata": {},
   "outputs": [
    {
     "data": {
      "image/png": "[encoded data removed]",
      "text/plain": [
       "<matplotlib.figure.Figure at 0xd68b1d0>"
      ]
     },
     "metadata": {},
     "output_type": "display_data"
    },
    {
     "data": {
      "image/png": "[encoded data removed]",
      "text/plain": [
       "<matplotlib.figure.Figure at 0x132a76d8>"
      ]
     },
     "metadata": {},
     "output_type": "display_data"
    }
   ],
   "source": [
    "#plot everything\n",
    "plt.plot(LAMBDA_axis,MSE_trn_lst.T, 'b--')\n",
    "plt.title('Training Data MSE vs LAMBDA')\n",
    "plt.ylabel('MSE_training')\n",
    "plt.xlabel('LAMBDA')\n",
    "plt.savefig('plots/plot3.3a.png')\n",
    "plt.show()\n",
    "plt.plot(LAMBDA_axis,MSE_tst_lst.T, 'r--')\n",
    "plt.title('Testing Data MSE vs LAMBDA')\n",
    "plt.ylabel('MSE_testing')\n",
    "plt.xlabel('LAMBDA')\n",
    "plt.ylim(0.017,0.02)\n",
    "plt.savefig('plots/plot3.3b.png')\n",
    "plt.show()"
   ]
  },
  {
   "cell_type": "code",
   "execution_count": 7,
   "metadata": {},
   "outputs": [
    {
     "name": "stdout",
     "output_type": "stream",
     "text": [
      "The Minimal MSE of the Testing Set is:  0.0179049621426\n",
      "The LAMBDA that gives the Minimal MSE of the Validation Set is:  4.7\n"
     ]
    }
   ],
   "source": [
    "#find the LAMBDA that gives the lowest error in the validation set\n",
    "LAMBDA_star=LAMBDA_axis[np.argmin(MSE_tst_lst)]\n",
    "print \"The Minimal MSE of the Testing Set is: \",MSE_tst_lst[np.argmin(MSE_tst_lst)]\n",
    "print \"The LAMBDA that gives the Minimal MSE of the Validation Set is: \",LAMBDA_star"
   ]
  },
  {
   "cell_type": "code",
   "execution_count": 8,
   "metadata": {},
   "outputs": [
    {
     "name": "stdout",
     "output_type": "stream",
     "text": [
      "w_star of selected model with redularization for given LAMBDA: \n",
      "[[  5.67799876e-02]\n",
      " [ -2.91598385e-03]\n",
      " [  7.70398369e-03]\n",
      " [  1.40057203e-01]\n",
      " [ -6.54872829e-02]\n",
      " [ -8.55434806e-03]\n",
      " [  6.87523262e-02]\n",
      " [ -2.00757022e-03]\n",
      " [ -6.32553510e-02]\n",
      " [ -4.10641189e-02]\n",
      " [  7.51443435e-02]\n",
      " [ -1.15621255e-02]\n",
      " [  3.54870574e-02]\n",
      " [  2.15942095e-02]\n",
      " [ -4.07647490e-02]\n",
      " [  2.00800411e-02]\n",
      " [ -9.55170443e-02]\n",
      " [  4.96340525e-02]\n",
      " [  3.68955800e-02]\n",
      " [ -5.06593700e-02]\n",
      " [  1.30869848e-02]\n",
      " [ -1.73219128e-02]\n",
      " [ -4.42868361e-02]\n",
      " [ -1.65297051e-02]\n",
      " [ -3.62751120e-02]\n",
      " [  2.42454746e-02]\n",
      " [  4.16197247e-02]\n",
      " [  2.77587892e-02]\n",
      " [ -5.27295659e-03]\n",
      " [ -1.64443245e-02]\n",
      " [ -6.81750864e-02]\n",
      " [  3.90617840e-03]\n",
      " [  9.02509399e-03]\n",
      " [  4.38987387e-04]\n",
      " [  6.65337273e-02]\n",
      " [ -3.19579530e-02]\n",
      " [ -6.95235809e-03]\n",
      " [  2.40860907e-02]\n",
      " [  2.25050540e-02]\n",
      " [  9.67868092e-02]\n",
      " [  6.21804483e-02]\n",
      " [ -2.98655003e-02]\n",
      " [  1.71805243e-02]\n",
      " [  3.48176453e-02]\n",
      " [ -5.71997560e-02]\n",
      " [ -9.75234707e-02]\n",
      " [ -3.10070905e-02]\n",
      " [ -2.40133766e-02]\n",
      " [  2.31242724e-02]\n",
      " [ -7.32212394e-02]\n",
      " [ -1.41121753e-02]\n",
      " [  1.89910294e-01]\n",
      " [ -2.68495650e-02]\n",
      " [ -2.70103882e-03]\n",
      " [  1.15398661e-02]\n",
      " [ -7.23137736e-03]\n",
      " [  8.89437139e-03]\n",
      " [ -5.02814917e-03]\n",
      " [  7.51029834e-03]\n",
      " [  1.97915104e-02]\n",
      " [  2.16394965e-02]\n",
      " [  1.39480411e-02]\n",
      " [ -5.81420697e-02]\n",
      " [ -1.75353150e-02]\n",
      " [ -2.95758921e-02]\n",
      " [  6.61903247e-02]\n",
      " [ -2.59329618e-02]\n",
      " [  1.25358225e-02]\n",
      " [ -3.77495513e-02]\n",
      " [  6.86604064e-02]\n",
      " [  4.30995223e-02]\n",
      " [  8.66301840e-03]\n",
      " [  8.86609180e-02]\n",
      " [ -5.35587397e-02]\n",
      " [  7.06836126e-03]\n",
      " [  6.53099357e-02]\n",
      " [ -5.11447593e-02]\n",
      " [  1.32946239e-02]\n",
      " [ -3.13920482e-05]\n",
      " [ -2.47466240e-03]\n",
      " [ -1.34028613e-02]\n",
      " [  1.11153595e-02]\n",
      " [  9.44296073e-03]\n",
      " [ -9.88774866e-02]\n",
      " [  5.65124215e-03]\n",
      " [  2.67034919e-02]\n",
      " [  6.08710706e-02]\n",
      " [  4.22127951e-02]\n",
      " [ -1.61598815e-02]\n",
      " [ -5.06560324e-02]\n",
      " [  7.85404147e-02]\n",
      " [  1.36305182e-01]\n",
      " [  2.91047079e-02]\n",
      " [  1.15590848e-02]\n",
      " [  7.82707082e-03]\n",
      " [  4.46877609e-02]\n",
      " [ -9.37824523e-03]\n",
      " [ -1.77659328e-02]\n",
      " [  2.79575051e-02]\n",
      " [  6.96825875e-02]\n",
      " [  3.90010459e-02]\n",
      " [ -2.13945356e-02]\n",
      " [  4.03466831e-02]\n",
      " [  6.29841037e-02]\n",
      " [  2.79495415e-02]\n",
      " [ -3.60681753e-02]\n",
      " [  1.90645193e-02]\n",
      " [ -2.77918791e-04]\n",
      " [  2.40762573e-02]\n",
      " [  5.29432320e-02]\n",
      " [  9.86065771e-03]\n",
      " [ -3.44806980e-02]\n",
      " [  1.18079923e-02]\n",
      " [  5.22063027e-03]\n",
      " [  2.10331520e-02]\n",
      " [  1.11670594e-02]\n",
      " [ -3.02584130e-02]\n",
      " [  4.27299502e-02]\n",
      " [ -7.58171414e-03]\n",
      " [  5.82100441e-02]\n",
      " [  4.40169025e-02]\n",
      " [  1.84126100e-02]\n",
      " [  2.84815008e-03]]\n"
     ]
    }
   ],
   "source": [
    "np.set_printoptions(threshold='nan')\n",
    "print \"w_star of selected model with redularization for given LAMBDA: \\n\", w_star  \n",
    "#Save the results into files\n",
    "with open(\"out/3.3/3.3_w_star.csv\", \"wb\") as f:\n",
    "    writer = csv.writer(f)\n",
    "    writer.writerows(w_star)"
   ]
  },
  {
   "cell_type": "code",
   "execution_count": 9,
   "metadata": {
    "scrolled": true
   },
   "outputs": [
    {
     "name": "stdout",
     "output_type": "stream",
     "text": [
      "(1594L, 1L)\n"
     ]
    }
   ],
   "source": [
    "import numpy.ma as ma\n",
    "lt_mdn_msk=ma.masked_less(np.abs(w_star), np.median(np.abs(w_star)))\n",
    "#Reduce the number of features by removing all the feature that are not above the mean\n",
    "#train\n",
    "dftr_r=pd.read_csv(\"out/3.2/CandC/CandC-train1.csv\")\n",
    "xtr_r=dftr_r.iloc[:,0:123]\n",
    "xtr_r=np.array(xtr_r)\n",
    "ytr_r=dftr_r.iloc[:,123:]\n",
    "ytr_r=np.array(ytr_r)\n",
    "print ytr_r.shape\n",
    "#test\n",
    "dftst_r=pd.read_csv(\"out/3.2/CandC/CandC-test1.csv\")\n",
    "xtst_r=dftst_r.iloc[:,0:123]\n",
    "xtst_r=np.array(xtst_r)\n",
    "ytst_r=dftst_r.iloc[:,123:]\n",
    "ytst_r=np.array(ytst_r)\n",
    "#create new dataset by deleting features with a weight less than the median\n",
    "i=0\n",
    "for j in lt_mdn_msk.mask:\n",
    "    if j[0]:\n",
    "        xtr_r = np.delete(xtr_r, (i), axis=1)\n",
    "        xtst_r = np.delete(xtst_r, (i), axis=1)\n",
    "    else:\n",
    "        i=i+1  "
   ]
  },
  {
   "cell_type": "code",
   "execution_count": 10,
   "metadata": {},
   "outputs": [
    {
     "name": "stdout",
     "output_type": "stream",
     "text": [
      "(1594L, 62L) (1594L, 1L)\n",
      "The MSE of the training datasets with reduced dimensionality is:  [[ 0.0169793]] \n",
      "The MSE of the testing datasets with reduced dimensionality is:  [[ 0.01802577]]\n"
     ]
    }
   ],
   "source": [
    "print xtr_r.shape,ytr_r.shape\n",
    "w_star_r=find_w_star(xtr_r,ytr_r,0)\n",
    "MSE_tr_r=find_MSE(xtr_r,ytr_r,w_star_r)\n",
    "MSE_tst_r=find_MSE(xtst_r,ytst_r,w_star_r)\n",
    "print \"The MSE of the training datasets with reduced dimensionality is: \",MSE_tr_r, \"\\n\",\"The MSE of the testing datasets with reduced dimensionality is: \",MSE_tst_r"
   ]
  },
  {
   "cell_type": "code",
   "execution_count": null,
   "metadata": {
    "collapsed": true
   },
   "outputs": [],
   "source": []
  }
 ],
 "metadata": {
  "kernelspec": {
   "display_name": "Python 2",
   "language": "python",
   "name": "python2"
  },
  "language_info": {
   "codemirror_mode": {
    "name": "ipython",
    "version": 2
   },
   "file_extension": ".py",
   "mimetype": "text/x-python",
   "name": "python",
   "nbconvert_exporter": "python",
   "pygments_lexer": "ipython2",
   "version": "2.7.14"
  }
 },
 "nbformat": 4,
 "nbformat_minor": 2
}
