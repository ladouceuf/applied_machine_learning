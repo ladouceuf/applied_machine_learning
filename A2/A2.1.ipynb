{
 "cells": [
  {
   "cell_type": "code",
   "execution_count": 1,
   "metadata": {
    "collapsed": true
   },
   "outputs": [],
   "source": [
    "import numpy as np\n",
    "import matplotlib as plt\n",
    "import pandas as pd"
   ]
  },
  {
   "cell_type": "code",
   "execution_count": 2,
   "metadata": {
    "collapsed": true
   },
   "outputs": [],
   "source": [
    "#read csv files that contain C1 mean, C2 mean and covariance matrix (same for both classes)\n",
    "m0=pd.read_csv(\"datasets/DS1_m_0.txt\",header=None)\n",
    "m0=np.array(m0)\n",
    "m0=np.delete(m0,20,1)\n",
    "m1=pd.read_csv(\"datasets/DS1_m_1.txt\",header=None)\n",
    "m1=np.array(m1)\n",
    "m1=np.delete(m1,20,1)\n",
    "cov=pd.read_csv(\"datasets/DS1_Cov.txt\",header=None)\n",
    "cov=np.array(cov)\n",
    "cov=np.delete(cov,20,1)\n"
   ]
  },
  {
   "cell_type": "code",
   "execution_count": 3,
   "metadata": {
    "collapsed": true
   },
   "outputs": [],
   "source": [
    "#generate 2000 examples for each class\n",
    "DS1_0=np.random.multivariate_normal(np.ravel(m0), cov, 2000)\n",
    "DS1_1=np.random.multivariate_normal(np.ravel(m1), cov, 2000)"
   ]
  },
  {
   "cell_type": "code",
   "execution_count": 4,
   "metadata": {
    "collapsed": true
   },
   "outputs": [],
   "source": [
    "#concatenate a col to the data matrix in order to label them with the appropriate class\n",
    "c0=np.zeros([2000,1])\n",
    "c1=np.ones([2000,1])\n",
    "DS1_0=np.column_stack((DS1_0,c0))\n",
    "DS1_1=np.column_stack((DS1_1,c1))"
   ]
  },
  {
   "cell_type": "code",
   "execution_count": 5,
   "metadata": {
    "collapsed": true
   },
   "outputs": [],
   "source": [
    "#concatenate DS1_0 and DS1_1 into one DS1 and randomize it\n",
    "DS1=np.row_stack((DS1_0,DS1_1))\n",
    "DS1=pd.DataFrame(DS1,index=None,columns=None)\n",
    "DS1=DS1.iloc[np.random.permutation(len(DS1))]\n"
   ]
  },
  {
   "cell_type": "code",
   "execution_count": 6,
   "metadata": {
    "collapsed": true
   },
   "outputs": [],
   "source": [
    "#split DS1 into DS1_train(70%) and DS1_test(30%)\n",
    "DS1_train=DS1.iloc[0:int(0.70*len(DS1)),:]\n",
    "DS1_test=DS1.iloc[int(0.70*len(DS1)):,:]"
   ]
  },
  {
   "cell_type": "code",
   "execution_count": 8,
   "metadata": {
    "collapsed": true
   },
   "outputs": [],
   "source": [
    "#save the datasets\n",
    "#DS1.to_csv('out/A2.1/DS1.csv', index=False, header=False)\n",
    "#DS1_train.to_csv('out/A2.1/DS1_train.csv', index=False, header=False)\n",
    "#DS1_test.to_csv('out/A2.1/DS1_test.csv', index=False, header=False)"
   ]
  },
  {
   "cell_type": "code",
   "execution_count": null,
   "metadata": {
    "collapsed": true
   },
   "outputs": [],
   "source": []
  }
 ],
 "metadata": {
  "kernelspec": {
   "display_name": "Python 2",
   "language": "python",
   "name": "python2"
  },
  "language_info": {
   "codemirror_mode": {
    "name": "ipython",
    "version": 2
   },
   "file_extension": ".py",
   "mimetype": "text/x-python",
   "name": "python",
   "nbconvert_exporter": "python",
   "pygments_lexer": "ipython2",
   "version": "2.7.14"
  }
 },
 "nbformat": 4,
 "nbformat_minor": 2
}
