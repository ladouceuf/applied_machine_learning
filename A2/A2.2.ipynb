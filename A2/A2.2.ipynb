{
 "cells": [
  {
   "cell_type": "code",
   "execution_count": 1,
   "metadata": {
    "collapsed": true
   },
   "outputs": [],
   "source": [
    "import numpy as np\n",
    "import matplotlib as plt\n",
    "import pandas as pd"
   ]
  },
  {
   "cell_type": "code",
   "execution_count": 2,
   "metadata": {
    "collapsed": true
   },
   "outputs": [],
   "source": [
    "#read csv files that contain the training and testing data\n",
    "DS1_train=pd.read_csv(\"out/A2.1/DS1_train.csv\",header=None)\n",
    "DS1_train=np.array(DS1_train)\n",
    "DS1_test=pd.read_csv(\"out/A2.1/DS1_test.csv\",header=None)\n",
    "DS1_test=np.array(DS1_test)"
   ]
  },
  {
   "cell_type": "code",
   "execution_count": 3,
   "metadata": {
    "collapsed": true
   },
   "outputs": [],
   "source": [
    "#learn parameters using maximum likelihood approach\n",
    "N0=0\n",
    "N1=0\n",
    "m0=np.zeros([1,20])\n",
    "m1=np.zeros([1,20])\n",
    "\n",
    "for j in range(0,2800): \n",
    "    if(DS1_train[j,20]==1):\n",
    "        N1=N1+1\n",
    "        m1=m1+DS1_train[int(j),:20]\n",
    "    else:\n",
    "        N0=N0+1\n",
    "        m0=m0+DS1_train[int(j),:20]\n",
    "     \n",
    "    \n",
    "pi=float(N0)/(N0+N1)\n",
    "m0=np.divide(m0,N0)\n",
    "m1=np.divide(m1,N1)\n",
    "\n",
    "s0=np.zeros([20,20])\n",
    "s1=np.zeros([20,20])\n",
    "\n",
    "\n",
    "\n",
    "for k in range(0,2800):\n",
    "    if(DS1_train[k,20]==1):\n",
    "        s1=np.add(s1,np.matmul((DS1_train[k,0:20]-m1).T,((DS1_train[k,0:20]-m1))))\n",
    "        \n",
    "    else:\n",
    "        s0=np.add(s0,np.matmul((DS1_train[k,0:20]-m0).T,((DS1_train[k,0:20]-m0))))\n",
    "\n",
    "s0=s0/float(N0)\n",
    "s1=s1/float(N1)\n",
    "s=pi*s0+(1-pi)*s1"
   ]
  },
  {
   "cell_type": "code",
   "execution_count": 4,
   "metadata": {},
   "outputs": [
    {
     "name": "stdout",
     "output_type": "stream",
     "text": [
      "w0_0:  [ 26.09831444] \n",
      "w0_1:  [-26.09831444] \n",
      "w_0:  \n",
      "[ 13.83781553  -8.13577882  -5.2890129   -3.11571921  -9.16358703\n",
      "  -4.34955068  16.03045348 -22.79275583 -27.57560007   8.69481137\n",
      " -12.67621349 -11.75712713  14.65557009  12.17681873  -5.55571079\n",
      "  12.53713866  28.09403341  -6.37317519  -0.43307619  -4.62221076] \n",
      "w_1: \n",
      "[-13.83781553   8.13577882   5.2890129    3.11571921   9.16358703\n",
      "   4.34955068 -16.03045348  22.79275583  27.57560007  -8.69481137\n",
      "  12.67621349  11.75712713 -14.65557009 -12.17681873   5.55571079\n",
      " -12.53713866 -28.09403341   6.37317519   0.43307619   4.62221076]\n"
     ]
    }
   ],
   "source": [
    "#build up the model's parameter and define the sigmoid function\n",
    "def sigmoid(a):\n",
    "    return 1.0/(1.0+np.exp(-a))\n",
    "\n",
    "w0_0=-0.5*m0.dot(np.linalg.inv(s)).dot(m0.T)+0.5*m1.dot(np.linalg.inv(s)).dot(m1.T)+np.log(pi/(1-pi))\n",
    "w_0=np.linalg.inv(s).dot((m0-m1).T)\n",
    "\n",
    "w0_1=-0.5*m1.dot(np.linalg.inv(s)).dot(m1.T)+0.5*m0.dot(np.linalg.inv(s)).dot(m0.T)+np.log((1-pi)/pi)\n",
    "w_1=np.linalg.inv(s).dot((m1-m0).T)\n",
    "\n",
    "print \"w0_0: \", np.ravel(w0_0),\"\\n\",\"w0_1: \", np.ravel(w0_1),\"\\n\",\"w_0: \",\"\\n\",np.ravel(w_0),\"\\n\",\"w_1:\",\"\\n\",np.ravel(w_1)"
   ]
  },
  {
   "cell_type": "code",
   "execution_count": 5,
   "metadata": {},
   "outputs": [
    {
     "name": "stdout",
     "output_type": "stream",
     "text": [
      "1200\n",
      "Accuracy:  0.960833333333 \n",
      "Precision:  0.961279461279 \n",
      "Recall:  0.959663865546 \n",
      "F_measure:  0.96047098402\n"
     ]
    }
   ],
   "source": [
    "#Compute the best fit accuracy, precision, recall and F-measure\n",
    "tp=0\n",
    "tn=0\n",
    "fp=0\n",
    "fn=0\n",
    "for r in range(0,1200):\n",
    "    p0=sigmoid(w0_0+w_0.T.dot(DS1_test[r,0:20]))\n",
    "    p1=sigmoid(w0_1+w_1.T.dot(DS1_test[r,0:20]))\n",
    "    if (p1>p0):\n",
    "        if(DS1_test[r,20]):\n",
    "            tp=tp+1\n",
    "        else:\n",
    "            fp=fp+1\n",
    "    else:\n",
    "        if(DS1_test[r,20]):\n",
    "            fn=fn+1\n",
    "        else:\n",
    "            tn=tn+1\n",
    "\n",
    "acc=(tp+tn)/1200.0            \n",
    "pre=tp/float(tp+fp)\n",
    "rec=tp/float(tp+fn)\n",
    "f_mes=(2.0*pre*rec)/float(pre+rec)\n",
    "\n",
    "print tp+fp+tn+fn\n",
    "print \"Accuracy: \", acc, \"\\n\",\"Precision: \", pre, \"\\n\",\"Recall: \", rec, \"\\n\",\"F_measure: \", f_mes"
   ]
  },
  {
   "cell_type": "code",
   "execution_count": null,
   "metadata": {
    "collapsed": true
   },
   "outputs": [],
   "source": []
  }
 ],
 "metadata": {
  "kernelspec": {
   "display_name": "Python 2",
   "language": "python",
   "name": "python2"
  },
  "language_info": {
   "codemirror_mode": {
    "name": "ipython",
    "version": 2
   },
   "file_extension": ".py",
   "mimetype": "text/x-python",
   "name": "python",
   "nbconvert_exporter": "python",
   "pygments_lexer": "ipython2",
   "version": "2.7.14"
  }
 },
 "nbformat": 4,
 "nbformat_minor": 2
}
