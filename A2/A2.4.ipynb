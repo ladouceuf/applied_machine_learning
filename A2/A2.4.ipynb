{
 "cells": [
  {
   "cell_type": "code",
   "execution_count": 1,
   "metadata": {
    "collapsed": true
   },
   "outputs": [],
   "source": [
    "import numpy as np\n",
    "import matplotlib as plt\n",
    "import pandas as pd"
   ]
  },
  {
   "cell_type": "code",
   "execution_count": 2,
   "metadata": {
    "collapsed": true
   },
   "outputs": [],
   "source": [
    "#read csv files that contain C1 mean, C2 mean and covariance matrix (same for both classes)\n",
    "c1_m1=pd.read_csv(\"datasets/DS2_c1_m1.txt\",header=None)\n",
    "c1_m1=np.array(c1_m1)\n",
    "c1_m1=np.delete(c1_m1,20,1)\n",
    "\n",
    "c1_m2=pd.read_csv(\"datasets/DS2_c1_m2.txt\",header=None)\n",
    "c1_m2=np.array(c1_m2)\n",
    "c1_m2=np.delete(c1_m2,20,1)\n",
    "\n",
    "c1_m3=pd.read_csv(\"datasets/DS2_c1_m3.txt\",header=None)\n",
    "c1_m3=np.array(c1_m3)\n",
    "c1_m3=np.delete(c1_m3,20,1)\n",
    "\n",
    "c2_m1=pd.read_csv(\"datasets/DS2_c2_m1.txt\",header=None)\n",
    "c2_m1=np.array(c2_m1)\n",
    "c2_m1=np.delete(c2_m1,20,1)\n",
    "\n",
    "c2_m2=pd.read_csv(\"datasets/DS2_c2_m2.txt\",header=None)\n",
    "c2_m2=np.array(c2_m2)\n",
    "c2_m2=np.delete(c2_m2,20,1)\n",
    "\n",
    "c2_m3=pd.read_csv(\"datasets/DS2_c2_m3.txt\",header=None)\n",
    "c2_m3=np.array(c2_m3)\n",
    "c2_m3=np.delete(c2_m3,20,1)\n",
    "\n",
    "cov1=pd.read_csv(\"datasets/DS2_Cov1.txt\",header=None)\n",
    "cov1=np.array(cov1)\n",
    "cov1=np.delete(cov1,20,1)\n",
    "\n",
    "cov2=pd.read_csv(\"datasets/DS2_Cov2.txt\",header=None)\n",
    "cov2=np.array(cov2)\n",
    "cov2=np.delete(cov2,20,1)\n",
    "\n",
    "cov3=pd.read_csv(\"datasets/DS2_Cov3.txt\",header=None)\n",
    "cov3=np.array(cov3)\n",
    "cov3=np.delete(cov3,20,1)\n"
   ]
  },
  {
   "cell_type": "code",
   "execution_count": 3,
   "metadata": {
    "collapsed": true
   },
   "outputs": [],
   "source": [
    "#generate 2000 examples for each gaussian dist (3) for each class(2) =6000 examples\n",
    "DS2_c1_1=np.random.multivariate_normal(np.ravel(c1_m1), cov1, 2000)\n",
    "DS2_c1_2=np.random.multivariate_normal(np.ravel(c1_m2), cov2, 2000)\n",
    "DS2_c1_3=np.random.multivariate_normal(np.ravel(c1_m3), cov3, 2000)\n",
    "\n",
    "DS2_c2_1=np.random.multivariate_normal(np.ravel(c2_m1), cov1, 2000)\n",
    "DS2_c2_2=np.random.multivariate_normal(np.ravel(c2_m2), cov2, 2000)\n",
    "DS2_c2_3=np.random.multivariate_normal(np.ravel(c2_m3), cov3, 2000)"
   ]
  },
  {
   "cell_type": "code",
   "execution_count": 4,
   "metadata": {
    "collapsed": true
   },
   "outputs": [],
   "source": [
    "#concatenate a col to the data matrix in order to label them with the appropriate class\n",
    "c1=np.zeros([2000,1])\n",
    "c2=np.ones([2000,1])\n",
    "\n",
    "DS2_c1_1=np.column_stack((DS2_c1_1,c1))\n",
    "DS2_c1_2=np.column_stack((DS2_c1_2,c1))\n",
    "DS2_c1_3=np.column_stack((DS2_c1_3,c1))\n",
    "DS2_c2_1=np.column_stack((DS2_c2_1,c2))\n",
    "DS2_c2_2=np.column_stack((DS2_c2_2,c2))\n",
    "DS2_c2_3=np.column_stack((DS2_c2_3,c2))"
   ]
  },
  {
   "cell_type": "code",
   "execution_count": 5,
   "metadata": {
    "collapsed": true
   },
   "outputs": [],
   "source": [
    "#create an array of size [100] with 10x1, so that when randomly picking from it I have a mixture probability of (0.1,0.42,0.48)\n",
    "prob_mat=np.zeros([100])\n",
    "for i in range(0,100):\n",
    "    if(i<=9):\n",
    "        prob_mat[i]=1\n",
    "    elif(i<=51):\n",
    "        prob_mat[i]=2\n",
    "    else:\n",
    "        prob_mat[i]=3\n"
   ]
  },
  {
   "cell_type": "code",
   "execution_count": 6,
   "metadata": {
    "collapsed": true
   },
   "outputs": [],
   "source": [
    "#randomly pick elements from prob_mat and create DS2 by taking an example in DS2_c1_1,2 or 3 depending on the number drawn from prob-mat\n",
    "\n",
    "DS2_c1=np.zeros(DS2_c1_1.shape)\n",
    "for i in range(0,2000):\n",
    "    rand=np.random.randint(0,99+1)\n",
    "    if prob_mat[rand]==1.0:\n",
    "        DS2_c1[i,:]=DS2_c1_1[i,:]\n",
    "    elif prob_mat[rand]==2.0:\n",
    "        DS2_c1[i,:]=DS2_c1_2[i,:]\n",
    "    elif prob_mat[rand]==3.0:\n",
    "        DS2_c1[i,:]=DS2_c1_3[i,:]\n",
    "    else: \n",
    "        print prob_mat[rand]\n",
    "\n",
    "DS2_c2=np.zeros(DS2_c2_1.shape)        \n",
    "for i in range(0,2000):\n",
    "    rand=np.random.randint(0,99+1)\n",
    "    if prob_mat[rand]==1.0:\n",
    "        DS2_c2[i,:]=DS2_c2_1[i,:]\n",
    "    elif prob_mat[rand]==2.0:\n",
    "        DS2_c2[i,:]=DS2_c2_2[i,:]\n",
    "    elif prob_mat[rand]==3.0:\n",
    "        DS2_c2[i,:]=DS2_c2_3[i,:]\n",
    "    else: \n",
    "        print prob_mat[rand]"
   ]
  },
  {
   "cell_type": "code",
   "execution_count": 7,
   "metadata": {
    "collapsed": true
   },
   "outputs": [],
   "source": [
    "#concatenate DS2_c1 and DS2_c2 into one DS2 and randomize it\n",
    "DS2=np.row_stack((DS2_c1,DS2_c2))\n",
    "DS2=pd.DataFrame(DS2,index=None,columns=None)\n",
    "DS2=DS2.iloc[np.random.permutation(len(DS2))]"
   ]
  },
  {
   "cell_type": "code",
   "execution_count": 8,
   "metadata": {
    "collapsed": true
   },
   "outputs": [],
   "source": [
    "#split DS2 into DS2_train(70%) and DS2_test(30%)\n",
    "DS2_train=DS2.iloc[0:int(0.70*len(DS2)),:]\n",
    "DS2_test=DS2.iloc[int(0.70*len(DS2)):,:]#split DS2 into DS2_train(70%) and DS2_test(30%)\n",
    "DS2_train=DS2.iloc[0:int(0.70*len(DS2)),:]\n",
    "DS2_test=DS2.iloc[int(0.70*len(DS2)):,:]"
   ]
  },
  {
   "cell_type": "code",
   "execution_count": 9,
   "metadata": {
    "collapsed": true
   },
   "outputs": [],
   "source": [
    "#save the datasets\n",
    "#DS2.to_csv('out/A2.4/DS22.csv', index=False, header=False)\n",
    "#DS2_train.to_csv('out/A2.4/DS2_train.csv', index=False, header=False)\n",
    "#DS2_test.to_csv('out/A2.4/DS2_test.csv', index=False, header=False)"
   ]
  },
  {
   "cell_type": "code",
   "execution_count": null,
   "metadata": {
    "collapsed": true
   },
   "outputs": [],
   "source": []
  }
 ],
 "metadata": {
  "kernelspec": {
   "display_name": "Python 2",
   "language": "python",
   "name": "python2"
  },
  "language_info": {
   "codemirror_mode": {
    "name": "ipython",
    "version": 2
   },
   "file_extension": ".py",
   "mimetype": "text/x-python",
   "name": "python",
   "nbconvert_exporter": "python",
   "pygments_lexer": "ipython2",
   "version": "2.7.14"
  }
 },
 "nbformat": 4,
 "nbformat_minor": 2
}
