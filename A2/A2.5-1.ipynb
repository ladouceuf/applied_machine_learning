{
 "cells": [
  {
   "cell_type": "code",
   "execution_count": 1,
   "metadata": {
    "collapsed": true
   },
   "outputs": [],
   "source": [
    "import numpy as np\n",
    "import matplotlib as plt\n",
    "import pandas as pd"
   ]
  },
  {
   "cell_type": "code",
   "execution_count": 2,
   "metadata": {
    "collapsed": true
   },
   "outputs": [],
   "source": [
    "#read csv files that contain the training and testing data\n",
    "DS2_train=pd.read_csv(\"out/A2.4/DS2_train.csv\",header=None)\n",
    "DS2_train=np.array(DS2_train)\n",
    "DS2_test=pd.read_csv(\"out/A2.4/DS2_test.csv\",header=None)\n",
    "DS2_test=np.array(DS2_test)"
   ]
  },
  {
   "cell_type": "code",
   "execution_count": 3,
   "metadata": {
    "collapsed": true
   },
   "outputs": [],
   "source": [
    "#learn parameters using maximum likelihood approach\n",
    "N0=0\n",
    "N1=0\n",
    "m0=np.zeros([1,20])\n",
    "m1=np.zeros([1,20])\n",
    "\n",
    "for j in range(0,2800): \n",
    "    if(DS2_train[j,20]==1):\n",
    "        N1=N1+1\n",
    "        m1=m1+DS2_train[int(j),:20]\n",
    "    else:\n",
    "        N0=N0+1\n",
    "        m0=m0+DS2_train[int(j),:20]\n",
    "     \n",
    "    \n",
    "pi=float(N0)/(N0+N1)\n",
    "m0=np.divide(m0,N0)\n",
    "m1=np.divide(m1,N1)\n",
    "\n",
    "s0=np.zeros([20,20])\n",
    "s1=np.zeros([20,20])\n",
    "\n",
    "\n",
    "\n",
    "for k in range(0,2800):\n",
    "    if(DS2_train[k,20]==1):\n",
    "        s1=np.add(s1,np.matmul((DS2_train[k,0:20]-m1).T,((DS2_train[k,0:20]-m1))))\n",
    "        \n",
    "    else:\n",
    "        s0=np.add(s0,np.matmul((DS2_train[k,0:20]-m0).T,((DS2_train[k,0:20]-m0))))\n",
    "\n",
    "s0=s0/float(N0)\n",
    "s1=s1/float(N1)\n",
    "s=pi*s0+(1-pi)*s1"
   ]
  },
  {
   "cell_type": "code",
   "execution_count": 4,
   "metadata": {},
   "outputs": [
    {
     "name": "stdout",
     "output_type": "stream",
     "text": [
      "w0_0:  [ 0.07782143] \n",
      "w0_1:  [-0.07782143] \n",
      "w_0:  \n",
      "[ 0.03095733  0.00568334  0.04279177  0.05273383 -0.04133535  0.09384691\n",
      "  0.0326761  -0.02106459 -0.03836051 -0.09044405 -0.01191598 -0.01282974\n",
      " -0.03690949 -0.01060537  0.01106433 -0.01245718  0.06254451 -0.01113789\n",
      " -0.01637733 -0.07398869] \n",
      "w_1: \n",
      "[-0.03095733 -0.00568334 -0.04279177 -0.05273383  0.04133535 -0.09384691\n",
      " -0.0326761   0.02106459  0.03836051  0.09044405  0.01191598  0.01282974\n",
      "  0.03690949  0.01060537 -0.01106433  0.01245718 -0.06254451  0.01113789\n",
      "  0.01637733  0.07398869]\n"
     ]
    }
   ],
   "source": [
    "#build up the model's parameter and define the sigmoid function\n",
    "def sigmoid(a):\n",
    "    return 1.0/(1.0+np.exp(-a))\n",
    "\n",
    "w0_0=-0.5*m0.dot(np.linalg.inv(s)).dot(m0.T)+0.5*m1.dot(np.linalg.inv(s)).dot(m1.T)+np.log(pi/(1-pi))\n",
    "w_0=np.linalg.inv(s).dot((m0-m1).T)\n",
    "\n",
    "w0_1=-0.5*m1.dot(np.linalg.inv(s)).dot(m1.T)+0.5*m0.dot(np.linalg.inv(s)).dot(m0.T)+np.log((1-pi)/pi)\n",
    "w_1=np.linalg.inv(s).dot((m1-m0).T)\n",
    "\n",
    "print \"w0_0: \", np.ravel(w0_0),\"\\n\",\"w0_1: \", np.ravel(w0_1),\"\\n\",\"w_0: \",\"\\n\",np.ravel(w_0),\"\\n\",\"w_1:\",\"\\n\",np.ravel(w_1)"
   ]
  },
  {
   "cell_type": "code",
   "execution_count": 5,
   "metadata": {},
   "outputs": [
    {
     "name": "stdout",
     "output_type": "stream",
     "text": [
      "1200\n",
      "Accuracy:  0.5275 \n",
      "Precision:  0.54351687389 \n",
      "Recall:  0.496753246753 \n",
      "F_measure:  0.519083969466\n"
     ]
    }
   ],
   "source": [
    "#Compute the best fit accuracy, precision, recall and F-measure\n",
    "tp=0\n",
    "tn=0\n",
    "fp=0\n",
    "fn=0\n",
    "for r in range(0,1200):\n",
    "    p0=sigmoid(w0_0+w_0.T.dot(DS2_test[r,0:20]))\n",
    "    p1=sigmoid(w0_1+w_1.T.dot(DS2_test[r,0:20]))\n",
    "    if (p1>p0):\n",
    "        if(DS2_test[r,20]):\n",
    "            tp=tp+1\n",
    "        else:\n",
    "            fp=fp+1\n",
    "    else:\n",
    "        if(DS2_test[r,20]):\n",
    "            fn=fn+1\n",
    "        else:\n",
    "            tn=tn+1\n",
    "\n",
    "acc=(tp+tn)/1200.0            \n",
    "pre=tp/float(tp+fp)\n",
    "rec=tp/float(tp+fn)\n",
    "f_mes=(2.0*pre*rec)/float(pre+rec)\n",
    "\n",
    "print tp+fp+tn+fn\n",
    "print \"Accuracy: \", acc, \"\\n\",\"Precision: \", pre, \"\\n\",\"Recall: \", rec, \"\\n\",\"F_measure: \", f_mes"
   ]
  },
  {
   "cell_type": "code",
   "execution_count": null,
   "metadata": {
    "collapsed": true
   },
   "outputs": [],
   "source": []
  }
 ],
 "metadata": {
  "kernelspec": {
   "display_name": "Python 2",
   "language": "python",
   "name": "python2"
  },
  "language_info": {
   "codemirror_mode": {
    "name": "ipython",
    "version": 2
   },
   "file_extension": ".py",
   "mimetype": "text/x-python",
   "name": "python",
   "nbconvert_exporter": "python",
   "pygments_lexer": "ipython2",
   "version": "2.7.14"
  }
 },
 "nbformat": 4,
 "nbformat_minor": 2
}
